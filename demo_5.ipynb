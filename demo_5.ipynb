{
 "cells": [
  {
   "cell_type": "code",
   "execution_count": 6,
   "metadata": {},
   "outputs": [],
   "source": [
    "import pandas as pd\n",
    "\n",
    "df = pd.read_csv(\"perceptron_toydata-truncated.txt\", sep=\"\\t\")"
   ]
  },
  {
   "cell_type": "code",
   "execution_count": 36,
   "metadata": {},
   "outputs": [
    {
     "data": {
      "text/plain": [
       "20"
      ]
     },
     "execution_count": 36,
     "metadata": {},
     "output_type": "execute_result"
    }
   ],
   "source": [
    "len(df)"
   ]
  },
  {
   "cell_type": "code",
   "execution_count": 7,
   "metadata": {},
   "outputs": [],
   "source": [
    "X_train = df[[\"x1\", \"x2\"]].values\n",
    "y_train = df[\"label\"].values"
   ]
  },
  {
   "cell_type": "code",
   "execution_count": 8,
   "metadata": {},
   "outputs": [],
   "source": [
    "import torch\n",
    "\n",
    "X_train = torch.tensor(X_train, dtype=torch.float32)\n",
    "y_train = torch.tensor(y_train, dtype=torch.float32)"
   ]
  },
  {
   "cell_type": "code",
   "execution_count": 9,
   "metadata": {},
   "outputs": [],
   "source": [
    "X_train =  (X_train - X_train.mean(dim=0)) / X_train.std(dim=0)"
   ]
  },
  {
   "cell_type": "code",
   "execution_count": 10,
   "metadata": {},
   "outputs": [],
   "source": [
    "class LogisticRegression(torch.nn.Module):\n",
    "    def __init__(self, num_features):\n",
    "        super().__init__()\n",
    "        self.linear= torch.nn.Linear(num_features, 1)\n",
    "    \n",
    "    def forward(self, X):\n",
    "        return torch.sigmoid(self.linear(X))\n",
    "    \n",
    "    \n",
    "    \n",
    "        "
   ]
  },
  {
   "cell_type": "code",
   "execution_count": 12,
   "metadata": {},
   "outputs": [],
   "source": [
    "torch.manual_seed(1)\n",
    "model= LogisticRegression(num_features=2)"
   ]
  },
  {
   "cell_type": "code",
   "execution_count": null,
   "metadata": {},
   "outputs": [],
   "source": []
  },
  {
   "cell_type": "code",
   "execution_count": 13,
   "metadata": {},
   "outputs": [],
   "source": [
    "from torch.utils.data import DataLoader, Dataset"
   ]
  },
  {
   "cell_type": "code",
   "execution_count": 16,
   "metadata": {},
   "outputs": [],
   "source": [
    "class MyDataset(Dataset):\n",
    "    def __init__(self, X, y):\n",
    "        self.features = torch.tensor(X, dtype=torch.float32)\n",
    "        self.labels= torch.tensor(y, dtype=torch.float32)\n",
    "        \n",
    "    def __getitem__(self, index):\n",
    "        return self.features[index], self.labels[index]\n",
    "    \n",
    "    def __len__(self):  \n",
    "        return len(self.features)\n",
    "\n"
   ]
  },
  {
   "cell_type": "code",
   "execution_count": 17,
   "metadata": {},
   "outputs": [
    {
     "name": "stderr",
     "output_type": "stream",
     "text": [
      "/tmp/ipykernel_5669/3328386872.py:3: UserWarning: To copy construct from a tensor, it is recommended to use sourceTensor.clone().detach() or sourceTensor.clone().detach().requires_grad_(True), rather than torch.tensor(sourceTensor).\n",
      "  self.features = torch.tensor(X, dtype=torch.float32)\n",
      "/tmp/ipykernel_5669/3328386872.py:4: UserWarning: To copy construct from a tensor, it is recommended to use sourceTensor.clone().detach() or sourceTensor.clone().detach().requires_grad_(True), rather than torch.tensor(sourceTensor).\n",
      "  self.labels= torch.tensor(y, dtype=torch.float32)\n"
     ]
    }
   ],
   "source": [
    "train_ds = MyDataset(X_train, y_train)\n"
   ]
  },
  {
   "cell_type": "code",
   "execution_count": 34,
   "metadata": {},
   "outputs": [],
   "source": [
    "train_loader = DataLoader(train_ds, batch_size=5, shuffle=True)"
   ]
  },
  {
   "cell_type": "code",
   "execution_count": 35,
   "metadata": {},
   "outputs": [
    {
     "name": "stdout",
     "output_type": "stream",
     "text": [
      "Epoch: 0, Batch: 0, Loss: 0.6004129648208618\n",
      "Epoch: 0, Batch: 1, Loss: 0.7179152965545654\n",
      "Epoch: 0, Batch: 2, Loss: 0.652118444442749\n",
      "Epoch: 0, Batch: 3, Loss: 0.6956579089164734\n",
      "Epoch: 1, Batch: 0, Loss: 0.6347257494926453\n",
      "Epoch: 1, Batch: 1, Loss: 0.5117328763008118\n",
      "Epoch: 1, Batch: 2, Loss: 0.5216338038444519\n",
      "Epoch: 1, Batch: 3, Loss: 0.5961524248123169\n",
      "Epoch: 2, Batch: 0, Loss: 0.4375084340572357\n",
      "Epoch: 2, Batch: 1, Loss: 0.4823271334171295\n",
      "Epoch: 2, Batch: 2, Loss: 0.4303448796272278\n",
      "Epoch: 2, Batch: 3, Loss: 0.6172777414321899\n",
      "Epoch: 3, Batch: 0, Loss: 0.44397425651550293\n",
      "Epoch: 3, Batch: 1, Loss: 0.5339592695236206\n",
      "Epoch: 3, Batch: 2, Loss: 0.42109036445617676\n",
      "Epoch: 3, Batch: 3, Loss: 0.3108120262622833\n",
      "Epoch: 4, Batch: 0, Loss: 0.45383086800575256\n",
      "Epoch: 4, Batch: 1, Loss: 0.3310663104057312\n",
      "Epoch: 4, Batch: 2, Loss: 0.37399643659591675\n",
      "Epoch: 4, Batch: 3, Loss: 0.3609667122364044\n",
      "Epoch: 5, Batch: 0, Loss: 0.3236541152000427\n",
      "Epoch: 5, Batch: 1, Loss: 0.34489309787750244\n",
      "Epoch: 5, Batch: 2, Loss: 0.32928726077079773\n",
      "Epoch: 5, Batch: 3, Loss: 0.3701329231262207\n",
      "Epoch: 6, Batch: 0, Loss: 0.36825475096702576\n",
      "Epoch: 6, Batch: 1, Loss: 0.2640411853790283\n",
      "Epoch: 6, Batch: 2, Loss: 0.3595522940158844\n",
      "Epoch: 6, Batch: 3, Loss: 0.25616806745529175\n",
      "Epoch: 7, Batch: 0, Loss: 0.2151603400707245\n",
      "Epoch: 7, Batch: 1, Loss: 0.3613126873970032\n",
      "Epoch: 7, Batch: 2, Loss: 0.3155958950519562\n",
      "Epoch: 7, Batch: 3, Loss: 0.24591341614723206\n",
      "Epoch: 8, Batch: 0, Loss: 0.23641681671142578\n",
      "Epoch: 8, Batch: 1, Loss: 0.2647705674171448\n",
      "Epoch: 8, Batch: 2, Loss: 0.3461892902851105\n",
      "Epoch: 8, Batch: 3, Loss: 0.20191609859466553\n",
      "Epoch: 9, Batch: 0, Loss: 0.22357723116874695\n",
      "Epoch: 9, Batch: 1, Loss: 0.32094550132751465\n",
      "Epoch: 9, Batch: 2, Loss: 0.21376636624336243\n",
      "Epoch: 9, Batch: 3, Loss: 0.21850427985191345\n"
     ]
    }
   ],
   "source": [
    "from torch.optim import SGD\n",
    "import torch.nn.functional as F\n",
    "torch.manual_seed(1)\n",
    "model = LogisticRegression(num_features=2)\n",
    "\n",
    "optimizer = SGD(model.parameters(), lr=0.1)\n",
    "epochs = 10\n",
    "\n",
    "\n",
    "for epoch in range(epochs):\n",
    "    total_loss= 0\n",
    "    model= model.train()\n",
    "    for batch_idx, (X, y) in enumerate(train_loader):\n",
    "        preds = model(X)\n",
    "        preds = preds.squeeze()\n",
    "        loss = F.binary_cross_entropy(preds, y)\n",
    "        optimizer.zero_grad()\n",
    "        loss.backward()\n",
    "        optimizer.step()\n",
    "        \n",
    "        print(f\"Epoch: {epoch}, Batch: {batch_idx}, Loss: {loss.item()}\")\n",
    "        \n",
    "        "
   ]
  },
  {
   "cell_type": "code",
   "execution_count": null,
   "metadata": {},
   "outputs": [],
   "source": []
  },
  {
   "cell_type": "code",
   "execution_count": 40,
   "metadata": {},
   "outputs": [
    {
     "name": "stdout",
     "output_type": "stream",
     "text": [
      "Epoch: 0, Batch: 0, Loss: 0.6004129648208618\n",
      "Epoch: 0, Batch: 1, Loss: 0.7179152965545654\n",
      "Epoch: 0, Batch: 2, Loss: 0.652118444442749\n",
      "Epoch: 0, Batch: 3, Loss: 0.6956579089164734\n",
      "Epoch: 0, Avg Loss: 0.17391447722911835\n",
      "Epoch: 1, Batch: 0, Loss: 0.6347257494926453\n",
      "Epoch: 1, Batch: 1, Loss: 0.5117328763008118\n",
      "Epoch: 1, Batch: 2, Loss: 0.5216338038444519\n",
      "Epoch: 1, Batch: 3, Loss: 0.5961524248123169\n",
      "Epoch: 1, Avg Loss: 0.14903810620307922\n",
      "Epoch: 2, Batch: 0, Loss: 0.4375084340572357\n",
      "Epoch: 2, Batch: 1, Loss: 0.4823271334171295\n",
      "Epoch: 2, Batch: 2, Loss: 0.4303448796272278\n",
      "Epoch: 2, Batch: 3, Loss: 0.6172777414321899\n",
      "Epoch: 2, Avg Loss: 0.15431943535804749\n",
      "Epoch: 3, Batch: 0, Loss: 0.44397425651550293\n",
      "Epoch: 3, Batch: 1, Loss: 0.5339592695236206\n",
      "Epoch: 3, Batch: 2, Loss: 0.42109036445617676\n",
      "Epoch: 3, Batch: 3, Loss: 0.3108120262622833\n",
      "Epoch: 3, Avg Loss: 0.07770300656557083\n",
      "Epoch: 4, Batch: 0, Loss: 0.45383086800575256\n",
      "Epoch: 4, Batch: 1, Loss: 0.3310663104057312\n",
      "Epoch: 4, Batch: 2, Loss: 0.37399643659591675\n",
      "Epoch: 4, Batch: 3, Loss: 0.3609667122364044\n",
      "Epoch: 4, Avg Loss: 0.0902416780591011\n",
      "Epoch: 5, Batch: 0, Loss: 0.3236541152000427\n",
      "Epoch: 5, Batch: 1, Loss: 0.34489309787750244\n",
      "Epoch: 5, Batch: 2, Loss: 0.32928726077079773\n",
      "Epoch: 5, Batch: 3, Loss: 0.3701329231262207\n",
      "Epoch: 5, Avg Loss: 0.09253323078155518\n",
      "Epoch: 6, Batch: 0, Loss: 0.36825475096702576\n",
      "Epoch: 6, Batch: 1, Loss: 0.2640411853790283\n",
      "Epoch: 6, Batch: 2, Loss: 0.3595522940158844\n",
      "Epoch: 6, Batch: 3, Loss: 0.25616806745529175\n",
      "Epoch: 6, Avg Loss: 0.06404201686382294\n",
      "Epoch: 7, Batch: 0, Loss: 0.2151603400707245\n",
      "Epoch: 7, Batch: 1, Loss: 0.3613126873970032\n",
      "Epoch: 7, Batch: 2, Loss: 0.3155958950519562\n",
      "Epoch: 7, Batch: 3, Loss: 0.24591341614723206\n",
      "Epoch: 7, Avg Loss: 0.061478354036808014\n",
      "Epoch: 8, Batch: 0, Loss: 0.23641681671142578\n",
      "Epoch: 8, Batch: 1, Loss: 0.2647705674171448\n",
      "Epoch: 8, Batch: 2, Loss: 0.3461892902851105\n",
      "Epoch: 8, Batch: 3, Loss: 0.20191609859466553\n",
      "Epoch: 8, Avg Loss: 0.05047902464866638\n",
      "Epoch: 9, Batch: 0, Loss: 0.22357723116874695\n",
      "Epoch: 9, Batch: 1, Loss: 0.32094550132751465\n",
      "Epoch: 9, Batch: 2, Loss: 0.21376636624336243\n",
      "Epoch: 9, Batch: 3, Loss: 0.21850427985191345\n",
      "Epoch: 9, Avg Loss: 0.05462606996297836\n"
     ]
    }
   ],
   "source": [
    "from torch.optim import SGD\n",
    "import torch.nn.functional as F\n",
    "torch.manual_seed(1)\n",
    "model = LogisticRegression(num_features=2)\n",
    "optimizer = SGD(model.parameters(), lr=0.1) \n",
    "\n",
    "for epoch in range(epochs):\n",
    "\n",
    "    model= model.train()\n",
    "    \n",
    "    for batch_idx, (X, y) in enumerate(train_loader):\n",
    "        total_loss= 0\n",
    "        y_pred = model(X)\n",
    "        y_pred = y_pred.squeeze()\n",
    "        loss = F.binary_cross_entropy(y_pred, y)\n",
    "        \n",
    "        optimizer.zero_grad()\n",
    "        loss.backward()\n",
    "        optimizer.step()\n",
    "        \n",
    "        total_loss += loss.item()\n",
    "        print(f\"Epoch: {epoch}, Batch: {batch_idx}, Loss: {loss.item()}\")\n",
    "    avg_loss = total_loss / len(train_loader)\n",
    "    print(f\"Epoch: {epoch}, Avg Loss: {avg_loss}\")"
   ]
  },
  {
   "cell_type": "code",
   "execution_count": 42,
   "metadata": {},
   "outputs": [
    {
     "data": {
      "text/plain": [
       "tensor([0.9587, 0.8612, 0.7234, 0.3787, 0.0963], grad_fn=<SqueezeBackward0>)"
      ]
     },
     "execution_count": 42,
     "metadata": {},
     "output_type": "execute_result"
    }
   ],
   "source": [
    "y_pred"
   ]
  },
  {
   "cell_type": "code",
   "execution_count": 43,
   "metadata": {},
   "outputs": [],
   "source": [
    "y_pred = torch.where(y_pred > 0.5, 1, 0)"
   ]
  },
  {
   "cell_type": "code",
   "execution_count": 44,
   "metadata": {},
   "outputs": [
    {
     "data": {
      "text/plain": [
       "tensor([1, 1, 1, 0, 0])"
      ]
     },
     "execution_count": 44,
     "metadata": {},
     "output_type": "execute_result"
    }
   ],
   "source": [
    "y_pred"
   ]
  },
  {
   "cell_type": "code",
   "execution_count": 81,
   "metadata": {},
   "outputs": [],
   "source": [
    "def compute_accuracy(model, data_loader):\n",
    "    model = model.eval()\n",
    "    correct_preds = 0\n",
    "    total_preds = 0\n",
    "    for X, y in data_loader:\n",
    "        with torch.no_grad():\n",
    "            y_pred = model(X)\n",
    "        y_pred = torch.where(y_pred > 0.5, 1, 0)\n",
    "        y.unsqueeze_(-1)\n",
    "        correct_preds += (y_pred == y).sum()\n",
    "        print(correct_preds)\n",
    "        total_preds += len(y)\n",
    "    return correct_preds / total_preds\n",
    "    "
   ]
  },
  {
   "cell_type": "code",
   "execution_count": 82,
   "metadata": {},
   "outputs": [
    {
     "name": "stdout",
     "output_type": "stream",
     "text": [
      "tensor(5)\n",
      "tensor(10)\n",
      "tensor(15)\n",
      "tensor(20)\n"
     ]
    },
    {
     "data": {
      "text/plain": [
       "tensor(1.)"
      ]
     },
     "execution_count": 82,
     "metadata": {},
     "output_type": "execute_result"
    }
   ],
   "source": [
    "compute_accuracy(model, train_loader)\n"
   ]
  },
  {
   "cell_type": "code",
   "execution_count": null,
   "metadata": {},
   "outputs": [],
   "source": []
  },
  {
   "cell_type": "code",
   "execution_count": null,
   "metadata": {},
   "outputs": [],
   "source": []
  }
 ],
 "metadata": {
  "kernelspec": {
   "display_name": "lightning",
   "language": "python",
   "name": "python3"
  },
  "language_info": {
   "codemirror_mode": {
    "name": "ipython",
    "version": 3
   },
   "file_extension": ".py",
   "mimetype": "text/x-python",
   "name": "python",
   "nbconvert_exporter": "python",
   "pygments_lexer": "ipython3",
   "version": "3.9.18"
  }
 },
 "nbformat": 4,
 "nbformat_minor": 2
}
